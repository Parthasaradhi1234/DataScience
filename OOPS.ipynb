{
 "cells": [
  {
   "cell_type": "code",
   "execution_count": 3,
   "id": "97fba3b1",
   "metadata": {},
   "outputs": [],
   "source": [
    "class test1:\n",
    "    pass"
   ]
  },
  {
   "cell_type": "code",
   "execution_count": 4,
   "id": "8e93b663",
   "metadata": {},
   "outputs": [],
   "source": [
    "a= test1()"
   ]
  },
  {
   "cell_type": "code",
   "execution_count": 7,
   "id": "4c41e804",
   "metadata": {},
   "outputs": [
    {
     "name": "stdout",
     "output_type": "stream",
     "text": [
      "<class '__main__.test1'>\n"
     ]
    }
   ],
   "source": [
    "print(type(a))"
   ]
  },
  {
   "cell_type": "code",
   "execution_count": null,
   "id": "318f2705",
   "metadata": {},
   "outputs": [],
   "source": [
    "cla"
   ]
  }
 ],
 "metadata": {
  "kernelspec": {
   "display_name": "Python 3 (ipykernel)",
   "language": "python",
   "name": "python3"
  },
  "language_info": {
   "codemirror_mode": {
    "name": "ipython",
    "version": 3
   },
   "file_extension": ".py",
   "mimetype": "text/x-python",
   "name": "python",
   "nbconvert_exporter": "python",
   "pygments_lexer": "ipython3",
   "version": "3.10.9"
  }
 },
 "nbformat": 4,
 "nbformat_minor": 5
}
