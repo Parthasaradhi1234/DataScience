{
 "cells": [
  {
   "cell_type": "markdown",
   "id": "80bf0747",
   "metadata": {},
   "source": [
    "### Q1. Explain Class and Object with respect to Object-Oriented Programming. Give a suitable example."
   ]
  },
  {
   "cell_type": "code",
   "execution_count": 3,
   "id": "3a357d9c",
   "metadata": {},
   "outputs": [],
   "source": [
    "# Class is a blue print. \n",
    "# Object is an instance of a class\n",
    "\n",
    "# Example\n",
    "# Class is a blue print which shows how to make a product. If we follow those steps we'll get final product i.e., object."
   ]
  },
  {
   "cell_type": "markdown",
   "id": "43398b8c",
   "metadata": {},
   "source": [
    "### Q2. Name the four pillars of OOPs."
   ]
  },
  {
   "cell_type": "code",
   "execution_count": 5,
   "id": "81de7ce7",
   "metadata": {},
   "outputs": [],
   "source": [
    "# Inheritance, Polymorphism, Encapsulation, Abstraction"
   ]
  },
  {
   "cell_type": "markdown",
   "id": "e369d4d8",
   "metadata": {},
   "source": [
    "### Q3. Explain why the __init__() function is used. Give a suitable example."
   ]
  },
  {
   "cell_type": "code",
   "execution_count": null,
   "id": "038e1fc5",
   "metadata": {},
   "outputs": [],
   "source": [
    "# init() is a constructor. It is an initializing function which initializes object attributes.\n",
    "\n"
   ]
  },
  {
   "cell_type": "markdown",
   "id": "b8d6352d",
   "metadata": {},
   "source": [
    "### Q4. Why self is used in OOPs?"
   ]
  },
  {
   "cell_type": "code",
   "execution_count": 6,
   "id": "9b61a4c4",
   "metadata": {},
   "outputs": [],
   "source": [
    "# SELF represents the instance of class. \n",
    "# It is used to access variables, attributes, and methods of a defined class in Python"
   ]
  },
  {
   "cell_type": "markdown",
   "id": "20f46047",
   "metadata": {},
   "source": [
    "### Q5. What is inheritance? Give an example for each type of inheritance."
   ]
  },
  {
   "cell_type": "code",
   "execution_count": 21,
   "id": "edab3bc3",
   "metadata": {},
   "outputs": [
    {
     "name": "stdout",
     "output_type": "stream",
     "text": [
      "Single inheritance output\n",
      "This is a parent class of single hierarchy\n",
      "This is a parent class of single hierarchy\n",
      "This is a sub class of single hierarchy\n",
      "10\n",
      "20\n",
      "Multiple Inheritance output\n",
      "This is a Parent class 1 of multiple hierarchy\n",
      "This is a Parent class 2 of multiple hierarchy\n",
      "This is a sub class of multiple hierarchy\n",
      "This is a Parent class 1 of multiple hierarchy\n",
      "This is a Parent class 2 of multiple hierarchy\n",
      "10 20 30\n",
      "Multilevel Inheritance\n",
      "This is a Parent class of Multilevel hierarchy\n",
      "This is a sub class 1 of Multilevel hierarchy\n",
      "This is a sub class of sub class 1 of Multilevel hierarchy\n"
     ]
    }
   ],
   "source": [
    "# Inheritance in python is like one class or method acquires the properties of another class or method respectively.\n",
    "\n",
    "# Five types of inheritance\n",
    "\n",
    "print(\"Single inheritance output\")\n",
    "\n",
    "class abc:\n",
    "    a=10\n",
    "    def func1(self):\n",
    "        print(\"This is a parent class of single hierarchy\")\n",
    "        \n",
    "class bcd(abc):\n",
    "    a=20\n",
    "    def func2(self):\n",
    "        print(\"This is a sub class of single hierarchy\")\n",
    "\n",
    "\n",
    "c1=abc()\n",
    "c2=bcd()\n",
    "c1.func1()\n",
    "c2.func1()\n",
    "c2.func2()\n",
    "print(c1.a)\n",
    "print(c2.a)\n",
    "\n",
    "print(\"Multiple Inheritance output\")\n",
    "class abcd:\n",
    "    a=10\n",
    "    def func1(self):\n",
    "        print(\"This is a Parent class 1 of multiple hierarchy\")\n",
    "        \n",
    "class bcde:\n",
    "    a=20\n",
    "    def func2(self):\n",
    "        print(\"This is a Parent class 2 of multiple hierarchy\")\n",
    "        \n",
    "class cdef(abcd, bcde):\n",
    "    a=30\n",
    "    def func3(self):\n",
    "        print(\"This is a sub class of multiple hierarchy\")\n",
    "        \n",
    "d1=abcd()\n",
    "d2=bcde()\n",
    "d3=cdef()\n",
    "d1.func1()\n",
    "d2.func2()\n",
    "d3.func3()\n",
    "d3.func1()\n",
    "d3.func2()\n",
    "print(d1.a, d2.a, d3.a)\n",
    "\n",
    "print(\"Multilevel Inheritance\")\n",
    "      \n",
    "class ab:\n",
    "    a=10\n",
    "    def func1(self):\n",
    "        print(\"This is a Parent class of Multilevel hierarchy\")\n",
    "\n",
    "\n",
    "class bc(ab):\n",
    "    a=20\n",
    "    def func2(self):\n",
    "        print(\"This is a sub class 1 of Multilevel hierarchy\")\n",
    "      \n",
    "class cd(bc):\n",
    "      a=30\n",
    "      def func3(self):\n",
    "          print(\"This is a sub class of sub class 1 of Multilevel hierarchy\")\n",
    "\n",
    "e1=cd()\n",
    "e1.func1()\n",
    "e1.func2()\n",
    "e1.func3()\n",
    "\n"
   ]
  },
  {
   "cell_type": "code",
   "execution_count": 24,
   "id": "562fbbd4",
   "metadata": {},
   "outputs": [
    {
     "name": "stdout",
     "output_type": "stream",
     "text": [
      "Hierarchical Inheritance\n",
      "This is a Parent class of Hierarchical Inheritance\n",
      "This is a Parent class of Hierarchical Inheritance\n",
      "This is a Parent class of Hierarchical Inheritance\n"
     ]
    }
   ],
   "source": [
    "print(\"Hierarchical Inheritance\")\n",
    "class a:\n",
    "    a=10\n",
    "    def func1(self):\n",
    "        print(\"This is a Parent class of Hierarchical Inheritance\")\n",
    "class b(a):\n",
    "    a=10\n",
    "    def func2(self):\n",
    "        print(\"This is a sub class 1 of Hierarchical Inheritance\")\n",
    "        \n",
    "class c(a):        \n",
    "    a=10\n",
    "    def func3(self):\n",
    "        print(\"This is a sub class 2 of Hierarchical Inheritance\")\n",
    "        \n",
    "class d(a):        \n",
    "    a=10\n",
    "    def func4(self):\n",
    "        print(\"This is a sub class 3 of Hierarchical Inheritance\")\n",
    "\n",
    "        \n",
    "f1=b()\n",
    "f2=c()\n",
    "f3=d()\n",
    "f1.func1()\n",
    "f2.func1()\n",
    "f3.func1()\n"
   ]
  },
  {
   "cell_type": "code",
   "execution_count": 28,
   "id": "87c0223d",
   "metadata": {},
   "outputs": [
    {
     "name": "stdout",
     "output_type": "stream",
     "text": [
      "Hybrid Inheritance\n",
      "This is a Parent class 1 of Hybrid Inheritance\n",
      "This is a parent class 2 of Hybrid Inheritance\n",
      "This is a parent class 2 of Hybrid Inheritance\n"
     ]
    }
   ],
   "source": [
    "print(\"Hybrid Inheritance\")\n",
    "\n",
    "class a:\n",
    "    a=10\n",
    "    def func1(self):\n",
    "        print(\"This is a Parent class 1 of Hybrid Inheritance\")\n",
    "class b:\n",
    "    a=10\n",
    "    def func2(self):\n",
    "        print(\"This is a parent class 2 of Hybrid Inheritance\")\n",
    "        \n",
    "class c(a,b):        \n",
    "    a=10\n",
    "    def func3(self):\n",
    "        print(\"This is a club of class a and b of Hybrid Inheritance\")\n",
    "        \n",
    "class d():\n",
    "    a=10\n",
    "    def func4(self):\n",
    "        print(\"This is a parent class 3 of Hybrid Inheritance\")\n",
    "        \n",
    "class e(b,d):\n",
    "    a=10\n",
    "    def func5(self):\n",
    "        print(\"This is a sub class 2 of Hybrid Inheritance\")\n",
    "        \n",
    "f1=c()\n",
    "f2=e()\n",
    "\n",
    "f1.func1()\n",
    "f2.func2()\n",
    "f2.func2()"
   ]
  },
  {
   "cell_type": "code",
   "execution_count": null,
   "id": "b68147e2",
   "metadata": {},
   "outputs": [],
   "source": []
  }
 ],
 "metadata": {
  "kernelspec": {
   "display_name": "Python 3 (ipykernel)",
   "language": "python",
   "name": "python3"
  },
  "language_info": {
   "codemirror_mode": {
    "name": "ipython",
    "version": 3
   },
   "file_extension": ".py",
   "mimetype": "text/x-python",
   "name": "python",
   "nbconvert_exporter": "python",
   "pygments_lexer": "ipython3",
   "version": "3.10.9"
  }
 },
 "nbformat": 4,
 "nbformat_minor": 5
}
