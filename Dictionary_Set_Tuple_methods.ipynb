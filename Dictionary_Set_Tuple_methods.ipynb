{
 "cells": [
  {
   "cell_type": "markdown",
   "id": "0cb9a6b6",
   "metadata": {},
   "source": [
    "#### Dictionary Methods"
   ]
  },
  {
   "cell_type": "markdown",
   "id": "1987cfbd",
   "metadata": {},
   "source": [
    "keys\n",
    "values\n",
    "item\n",
    "delete\n",
    "pop\n",
    "deepcopy\n",
    "shallowcopy\n",
    "fromkeys\n",
    "update\n",
    "get"
   ]
  },
  {
   "cell_type": "code",
   "execution_count": 8,
   "id": "315c1fa8",
   "metadata": {},
   "outputs": [
    {
     "name": "stdout",
     "output_type": "stream",
     "text": [
      "{1: ('a', 'b', 'c'), 2: ('a', 'b', 'c'), 3: ('a', 'b', 'c')}\n"
     ]
    }
   ],
   "source": [
    "d=d.fromkeys((1,2,3),('a','b','c'))\n",
    "print(d)"
   ]
  },
  {
   "cell_type": "code",
   "execution_count": 9,
   "id": "b580c665",
   "metadata": {},
   "outputs": [],
   "source": [
    "d1={\"key1\":\"value1\", \"key2\":\"value2\"}\n",
    "d2={\"key3\":\"value4\", \"key4\":\"value5\"}"
   ]
  },
  {
   "cell_type": "code",
   "execution_count": 10,
   "id": "b5a8a76a",
   "metadata": {},
   "outputs": [],
   "source": [
    "d1.update(d2)"
   ]
  },
  {
   "cell_type": "code",
   "execution_count": 11,
   "id": "e143e3cc",
   "metadata": {},
   "outputs": [
    {
     "name": "stdout",
     "output_type": "stream",
     "text": [
      "{'key1': 'value1', 'key2': 'value2', 'key3': 'value4', 'key4': 'value5'}\n"
     ]
    }
   ],
   "source": [
    "print(d1)"
   ]
  },
  {
   "cell_type": "code",
   "execution_count": 13,
   "id": "0e6ce3ee",
   "metadata": {},
   "outputs": [
    {
     "name": "stdout",
     "output_type": "stream",
     "text": [
      "value1\n",
      "None\n"
     ]
    }
   ],
   "source": [
    "print(d1.get(\"key1\"))\n",
    "print(d2.get(\"key1\"))"
   ]
  },
  {
   "cell_type": "markdown",
   "id": "896ae7cc",
   "metadata": {},
   "source": [
    "#### Dictionary Comprehensions"
   ]
  },
  {
   "cell_type": "code",
   "execution_count": 18,
   "id": "097c475a",
   "metadata": {},
   "outputs": [
    {
     "data": {
      "text/plain": [
       "{1: 1, 2: 4, 3: 9, 4: 16, 5: 25, 6: 36, 7: 49, 8: 64, 9: 81, 10: 100}"
      ]
     },
     "execution_count": 18,
     "metadata": {},
     "output_type": "execute_result"
    }
   ],
   "source": [
    "{i : i**2 for i in range(1,11)}"
   ]
  },
  {
   "cell_type": "code",
   "execution_count": 20,
   "id": "8f48c48f",
   "metadata": {},
   "outputs": [],
   "source": [
    "import math\n",
    "d3={i : math.log10(i) for i in range(1,11)}"
   ]
  },
  {
   "cell_type": "code",
   "execution_count": 23,
   "id": "f37948c2",
   "metadata": {},
   "outputs": [
    {
     "name": "stdout",
     "output_type": "stream",
     "text": [
      "0.3010299956639812\n",
      "0.6020599913279624\n",
      "0.7781512503836436\n",
      "0.9030899869919435\n",
      "1.0\n"
     ]
    }
   ],
   "source": [
    "for i in d3.keys():\n",
    "    if i % 2 == 0:\n",
    "        print(d3[i])"
   ]
  },
  {
   "cell_type": "code",
   "execution_count": null,
   "id": "691597bc",
   "metadata": {},
   "outputs": [],
   "source": []
  }
 ],
 "metadata": {
  "kernelspec": {
   "display_name": "Python 3 (ipykernel)",
   "language": "python",
   "name": "python3"
  },
  "language_info": {
   "codemirror_mode": {
    "name": "ipython",
    "version": 3
   },
   "file_extension": ".py",
   "mimetype": "text/x-python",
   "name": "python",
   "nbconvert_exporter": "python",
   "pygments_lexer": "ipython3",
   "version": "3.10.9"
  }
 },
 "nbformat": 4,
 "nbformat_minor": 5
}
