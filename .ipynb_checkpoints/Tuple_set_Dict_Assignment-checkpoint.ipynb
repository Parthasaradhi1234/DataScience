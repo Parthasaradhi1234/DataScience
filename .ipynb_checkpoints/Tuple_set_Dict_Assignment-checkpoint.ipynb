{
 "cells": [
  {
   "cell_type": "markdown",
   "id": "d5cb7ed1",
   "metadata": {},
   "source": [
    "Q1. What are the characteristics of the tuples? Is tuple immutable?"
   ]
  },
  {
   "cell_type": "code",
   "execution_count": null,
   "id": "008455b7",
   "metadata": {},
   "outputs": [],
   "source": [
    "Tuples are indexed\n",
    "Tuples are Ordered\n",
    "Tuples allows duplicate values\n",
    "\n",
    "Tuples are immutable"
   ]
  },
  {
   "cell_type": "markdown",
   "id": "529b9635",
   "metadata": {},
   "source": [
    "Q2. What are the two tuple methods in python? Give an example of each method. Give a reason why\n",
    "tuples have only two in-built methods as compared to Lists."
   ]
  },
  {
   "cell_type": "code",
   "execution_count": 22,
   "id": "3288ff71",
   "metadata": {},
   "outputs": [
    {
     "name": "stdout",
     "output_type": "stream",
     "text": [
      "2\n",
      "0\n"
     ]
    }
   ],
   "source": [
    "#count() and index() are the two methods in python.\n",
    "a=(1,2,3,4,3,4,5,3,2,3,5,4)\n",
    "print(a.count(2))\n",
    "print(a.index(1))\n",
    "\n",
    "'''Tuples in Python are designed to be immutable, meaning that once a tuple is created, its contents cannot be changed. \n",
    "In contrast, lists are mutable, and their elements can be modified, added, or removed dynamically.\n",
    "\n",
    "Because tuples are immutable, they don't need as many methods as lists, which are more complex data structures. \n",
    "Tuples only have two built-in methods: count() and index(), which allow you to count the occurrences of a value and \n",
    "find the index of a value, respectively.\n",
    "\n",
    "On the other hand, lists have many more built-in methods, such as append(), extend(), insert(), remove(), and pop(), \n",
    "among others. These methods allow for the dynamic modification of list elements and the manipulation of the list's size \n",
    "and contents'''\n"
   ]
  },
  {
   "cell_type": "markdown",
   "id": "f0d21427",
   "metadata": {},
   "source": [
    "Q3. Which collection datatypes in python do not allow duplicate items? Write a code using a set to remove\n",
    "duplicates from the given list.\n",
    "List = [1, 1, 1, 2, 1, 3, 1, 4, 2, 1, 2, 2, 2, 3, 2, 4, 3, 1, 3, 2, 3, 3, 3, 4, 4, 1, 4, 2, 4, 3, 4, 4]"
   ]
  },
  {
   "cell_type": "code",
   "execution_count": 19,
   "id": "f0564ec4",
   "metadata": {},
   "outputs": [
    {
     "name": "stdout",
     "output_type": "stream",
     "text": [
      "[1, 2, 3, 4]\n"
     ]
    }
   ],
   "source": [
    "#Set is the data type in python which do not allow duplicate items.\n",
    "\n",
    "List = [1, 1, 1, 2, 1, 3, 1, 4, 2, 1, 2, 2, 2, 3, 2, 4, 3, 1, 3, 2, 3, 3, 3, 4, 4, 1, 4, 2, 4, 3, 4, 4]\n",
    "List= list(set(List))\n",
    "print(List)"
   ]
  },
  {
   "cell_type": "markdown",
   "id": "6f0438be",
   "metadata": {},
   "source": [
    "Q4. Explain the difference between the union() and update() methods for a set. Give an example of\n",
    "each method.\n"
   ]
  },
  {
   "cell_type": "code",
   "execution_count": null,
   "id": "bec31c0e",
   "metadata": {},
   "outputs": [],
   "source": [
    "# The union() method returns a set that contains all items from the original set, and all items from the specified set. \n",
    "\n",
    "# The update() method updates the current set, by adding items from another set."
   ]
  },
  {
   "cell_type": "markdown",
   "id": "619a5932",
   "metadata": {},
   "source": [
    "Q5. What is a dictionary? Give an example. Also, state whether a dictionary is ordered or unordered.\n"
   ]
  },
  {
   "cell_type": "code",
   "execution_count": 2,
   "id": "6dd1f245",
   "metadata": {},
   "outputs": [
    {
     "name": "stdout",
     "output_type": "stream",
     "text": [
      "{'Key': 7}\n"
     ]
    }
   ],
   "source": [
    "# Dictionary is a collection of Key Value Pairs.\n",
    "\n",
    "#Examaple\n",
    "x={\"Key\":7}\n",
    "\n",
    "# Dictionary is ordered\n",
    "print(x)"
   ]
  },
  {
   "cell_type": "markdown",
   "id": "83ef5295",
   "metadata": {},
   "source": [
    "Q6. Can we create a nested dictionary? If so, please give an example by creating a simple one-level\n",
    "nested dictionary.\n"
   ]
  },
  {
   "cell_type": "code",
   "execution_count": 4,
   "id": "1da71953",
   "metadata": {},
   "outputs": [
    {
     "name": "stdout",
     "output_type": "stream",
     "text": [
      "{'key': {'subkey': 10}}\n"
     ]
    }
   ],
   "source": [
    "# Yes we can create nested dictionary\n",
    "# Example\n",
    "x={\"key\":{\"subkey\":10}}\n",
    "\n",
    "print(x)"
   ]
  },
  {
   "cell_type": "markdown",
   "id": "6f38cd57",
   "metadata": {},
   "source": [
    "Q7. Using setdefault() method, create key named topics in the given dictionary and also add the value of\n",
    "the key as this list ['Python', 'Machine Learning', 'Deep Learning']\n",
    "dict1 = {'language' : 'Python', 'course': 'Data Science Masters'}\n"
   ]
  },
  {
   "cell_type": "code",
   "execution_count": 10,
   "id": "c90cd65c",
   "metadata": {},
   "outputs": [
    {
     "data": {
      "text/plain": [
       "{'language': 'Python',\n",
       " 'course': 'Data Science Masters',\n",
       " 'key': ['Python', 'Machine Learning', 'Deep Learning']}"
      ]
     },
     "execution_count": 10,
     "metadata": {},
     "output_type": "execute_result"
    }
   ],
   "source": [
    "dict1 = {'language' : 'Python', 'course': 'Data Science Masters'}\n",
    "dict1.setdefault('key', ['Python', 'Machine Learning','Deep Learning'] )\n",
    "dict1"
   ]
  },
  {
   "cell_type": "markdown",
   "id": "0c5c3aef",
   "metadata": {},
   "source": [
    "Q8. What are the three view objects in dictionaries? Use the three in-built methods in python to display\n",
    "these three view objects for the given dictionary.\n",
    "dict1 = {'Sport': 'Cricket' , 'Teams': ['India', 'Australia', 'England', 'South Africa', 'Sri Lanka', 'New Zealand']}"
   ]
  },
  {
   "cell_type": "code",
   "execution_count": 11,
   "id": "9748128a",
   "metadata": {},
   "outputs": [
    {
     "name": "stdout",
     "output_type": "stream",
     "text": [
      "dict_keys(['Sport', 'Teams'])\n",
      "dict_values(['Cricket', ['India', 'Australia', 'England', 'South Africa', 'Sri Lanka', 'New Zealand']])\n",
      "dict_items([('Sport', 'Cricket'), ('Teams', ['India', 'Australia', 'England', 'South Africa', 'Sri Lanka', 'New Zealand'])])\n"
     ]
    }
   ],
   "source": [
    "#Three view objects in dictionaries are keys, values and items.\n",
    "\n",
    "dict1 = {'Sport': 'Cricket' , 'Teams': ['India', 'Australia', 'England', 'South Africa', 'Sri Lanka', 'New Zealand']}\n",
    "print(dict1.keys())\n",
    "print(dict1.values())\n",
    "print(dict1.items())"
   ]
  }
 ],
 "metadata": {
  "kernelspec": {
   "display_name": "Python 3 (ipykernel)",
   "language": "python",
   "name": "python3"
  },
  "language_info": {
   "codemirror_mode": {
    "name": "ipython",
    "version": 3
   },
   "file_extension": ".py",
   "mimetype": "text/x-python",
   "name": "python",
   "nbconvert_exporter": "python",
   "pygments_lexer": "ipython3",
   "version": "3.10.9"
  }
 },
 "nbformat": 4,
 "nbformat_minor": 5
}
